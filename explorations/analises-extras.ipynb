{
 "cells": [
  {
   "cell_type": "code",
   "execution_count": null,
   "metadata": {},
   "outputs": [],
   "source": []
  },
  {
   "cell_type": "code",
   "execution_count": null,
   "metadata": {},
   "outputs": [],
   "source": []
  },
  {
   "cell_type": "markdown",
   "metadata": {},
   "source": [
    "O modelo está praticamente respondendo o que existe na coluna connection_status. Podemos separar em duas análises:\n",
    "- Quais fatores contam quando está conectado\n",
    "- Quais fatores contam quando não está conectado"
   ]
  },
  {
   "cell_type": "code",
   "execution_count": null,
   "metadata": {},
   "outputs": [],
   "source": [
    "categorical = [\n",
    "    'regional', \n",
    "    'client_class',\n",
    "    'disconnection_executed'\n",
    "]\n",
    "numerical = [\n",
    "    'total_debt',\n",
    "    'total_bills'\n",
    "]\n",
    "datetime = [\n",
    "    'disconnection_date'\n",
    "]\n",
    "df_n_connected = df.loc[df.connection_status == 'connected'].reset_index(drop=True).drop(['connection_status'], axis = 1)\n",
    "df_n_disconnected = df.loc[df.connection_status == 'disconnected'].reset_index(drop=True).drop(['connection_status'], axis = 1)\n",
    "\n",
    "p_connected = Pipeline(df_n_connected, categorical, numerical, 'collected')\n",
    "p_connected.preprocessing()\n",
    "\n",
    "p_disconnected = Pipeline(df_n_disconnected, categorical, numerical, 'collected')\n",
    "p_disconnected.preprocessing()"
   ]
  },
  {
   "cell_type": "code",
   "execution_count": null,
   "metadata": {},
   "outputs": [
    {
     "name": "stdout",
     "output_type": "stream",
     "text": [
      "O df composto pelos conectados possui shape (312990, 16)\n",
      "O número de positivos para esse df é de 264623, representando 84.55%\n",
      "------\n",
      "O df composto pelos disconectados possui shape (305214, 16)\n",
      "O número de positivos para esse df é de 3468, representando 1.14%\n"
     ]
    }
   ],
   "source": [
    "print(f'''O df composto pelos conectados possui shape {df_n_connected.shape}\n",
    "O número de positivos para esse df é de {df_n_connected.collected.sum():.0f}, representando {df_n_connected.collected.sum()/df_n_connected.shape[0]*100:.2f}%\n",
    "------\n",
    "O df composto pelos desconectados possui shape {df_n_disconnected.shape}\n",
    "O número de positivos para esse df é de {df_n_disconnected.collected.sum():.0f}, representando {df_n_disconnected.collected.sum()/df_n_disconnected.shape[0]*100:.2f}%''')"
   ]
  },
  {
   "cell_type": "markdown",
   "metadata": {},
   "source": [
    "Fica clara a tendencia de resultados para cada um dos grupos."
   ]
  },
  {
   "cell_type": "code",
   "execution_count": null,
   "metadata": {},
   "outputs": [
    {
     "name": "stdout",
     "output_type": "stream",
     "text": [
      "5-Fold Cross Validation Precision: [0.8433944157565233, 0.8475285084211248, 0.844847681513815, 0.842390310786106, 0.8454491455725122]\n",
      "Test Set Precision: 0.8448\n"
     ]
    }
   ],
   "source": [
    "model = LogisticRegression(\n",
    "            random_state=42,\n",
    "            max_iter=500,\n",
    "            C=0.1,\n",
    "        )\n",
    "num_folds = 5\n",
    "cv_Precision = cv(p_connected.X_processed.values, p_connected.y_processed.values,  model, num_folds, metric=precision_score)\n",
    "print(f'5-Fold Cross Validation Precision: {cv_Precision}')\n",
    "\n",
    "model.fit(p_connected.X_processed.values, p_connected.y_processed.values.ravel())\n",
    "y_pred = model.predict(p_connected.X_processed_test.values)\n",
    "test_Precision= precision_score(p_connected.y_processed_test.values,y_pred)\n",
    "print(f'Test Set Precision: {test_Precision:.4f}')"
   ]
  },
  {
   "cell_type": "code",
   "execution_count": null,
   "metadata": {},
   "outputs": [
    {
     "data": {
      "text/plain": [
       "0.9155517017125515"
      ]
     },
     "metadata": {},
     "output_type": "display_data"
    }
   ],
   "source": [
    "f1_score(p_connected.y_processed_test.values,y_pred)"
   ]
  },
  {
   "cell_type": "code",
   "execution_count": null,
   "metadata": {},
   "outputs": [
    {
     "data": {
      "text/plain": [
       "0.8444224348631767"
      ]
     },
     "metadata": {},
     "output_type": "display_data"
    }
   ],
   "source": [
    "accuracy_score(p_connected.y_processed_test.values,y_pred)"
   ]
  },
  {
   "cell_type": "code",
   "execution_count": null,
   "metadata": {},
   "outputs": [
    {
     "data": {
      "text/plain": [
       "{'regional_1': -0.21660591397321086,\n",
       " 'regional_2': -0.13142612507942772,\n",
       " 'regional_3': 0.2380433018376329,\n",
       " 'regional_4': 0.09436435819819264,\n",
       " 'client_class_1': -0.282143122332071,\n",
       " 'client_class_2': 0.10392942733676994,\n",
       " 'client_class_3': 0.0998361296469653,\n",
       " 'client_class_4': -0.130490019930821,\n",
       " 'client_class_5': 0.14855014131166247,\n",
       " 'client_class_7': 0.044693064950716545,\n",
       " 'disconnection_executed_branch': -0.8887305906154995,\n",
       " 'disconnection_executed_circuit_break': 0.08258586624609066,\n",
       " 'disconnection_executed_pole': -0.05703567018397581,\n",
       " 'disconnection_executed_remote': 0.8475560155365462,\n",
       " 'total_debt': 0.19209319313222384,\n",
       " 'total_bills': -6.722717903659356}"
      ]
     },
     "metadata": {},
     "output_type": "display_data"
    }
   ],
   "source": [
    "{x:y for x,y in zip(p_connected.X_processed.columns,model.coef_[0])}"
   ]
  },
  {
   "cell_type": "markdown",
   "metadata": {},
   "source": [
    "Iniciando a análise do df com registros que estão desconectados. Será necessário, dessa vez, um tratamento para o desbalanceamento da base"
   ]
  },
  {
   "cell_type": "code",
   "execution_count": null,
   "metadata": {},
   "outputs": [
    {
     "name": "stderr",
     "output_type": "stream",
     "text": [
      "c:\\Users\\leonardodomingos\\.virtualenvs\\LeonardoDomingosKearney-Q09UpS7u\\lib\\site-packages\\sklearn\\metrics\\_classification.py:1469: UndefinedMetricWarning: Precision is ill-defined and being set to 0.0 due to no predicted samples. Use `zero_division` parameter to control this behavior.\n",
      "  _warn_prf(average, modifier, msg_start, len(result))\n",
      "c:\\Users\\leonardodomingos\\.virtualenvs\\LeonardoDomingosKearney-Q09UpS7u\\lib\\site-packages\\sklearn\\metrics\\_classification.py:1469: UndefinedMetricWarning: Precision is ill-defined and being set to 0.0 due to no predicted samples. Use `zero_division` parameter to control this behavior.\n",
      "  _warn_prf(average, modifier, msg_start, len(result))\n",
      "c:\\Users\\leonardodomingos\\.virtualenvs\\LeonardoDomingosKearney-Q09UpS7u\\lib\\site-packages\\sklearn\\metrics\\_classification.py:1469: UndefinedMetricWarning: Precision is ill-defined and being set to 0.0 due to no predicted samples. Use `zero_division` parameter to control this behavior.\n",
      "  _warn_prf(average, modifier, msg_start, len(result))\n",
      "c:\\Users\\leonardodomingos\\.virtualenvs\\LeonardoDomingosKearney-Q09UpS7u\\lib\\site-packages\\sklearn\\metrics\\_classification.py:1469: UndefinedMetricWarning: Precision is ill-defined and being set to 0.0 due to no predicted samples. Use `zero_division` parameter to control this behavior.\n",
      "  _warn_prf(average, modifier, msg_start, len(result))\n",
      "c:\\Users\\leonardodomingos\\.virtualenvs\\LeonardoDomingosKearney-Q09UpS7u\\lib\\site-packages\\sklearn\\metrics\\_classification.py:1469: UndefinedMetricWarning: Precision is ill-defined and being set to 0.0 due to no predicted samples. Use `zero_division` parameter to control this behavior.\n",
      "  _warn_prf(average, modifier, msg_start, len(result))\n"
     ]
    },
    {
     "name": "stdout",
     "output_type": "stream",
     "text": [
      "5-Fold Cross Validation Precision: [0.0, 0.0, 0.0, 0.0, 0.0]\n",
      "Test Set Precision: 0.0000\n"
     ]
    },
    {
     "name": "stderr",
     "output_type": "stream",
     "text": [
      "c:\\Users\\leonardodomingos\\.virtualenvs\\LeonardoDomingosKearney-Q09UpS7u\\lib\\site-packages\\sklearn\\metrics\\_classification.py:1469: UndefinedMetricWarning: Precision is ill-defined and being set to 0.0 due to no predicted samples. Use `zero_division` parameter to control this behavior.\n",
      "  _warn_prf(average, modifier, msg_start, len(result))\n"
     ]
    }
   ],
   "source": [
    "model = LogisticRegression(\n",
    "            random_state=42,\n",
    "            max_iter=500,\n",
    "            C=0.1,\n",
    "        )\n",
    "num_folds = 5\n",
    "cv_Precision = cv(p_disconnected.X_processed.values, p_disconnected.y_processed.values,  model, num_folds, metric=precision_score)\n",
    "print(f'5-Fold Cross Validation Precision: {cv_Precision}')\n",
    "\n",
    "model.fit(p_disconnected.X_processed.values, p_disconnected.y_processed.values.ravel())\n",
    "y_pred = model.predict(p_disconnected.X_processed_test.values)\n",
    "test_Precision= precision_score(p_disconnected.y_processed_test.values,y_pred)\n",
    "print(f'Test Set Precision: {test_Precision:.4f}')"
   ]
  },
  {
   "cell_type": "markdown",
   "metadata": {},
   "source": [
    "### Nova hipótese\n",
    "Target = disconnection_executed"
   ]
  },
  {
   "cell_type": "code",
   "execution_count": null,
   "metadata": {},
   "outputs": [
    {
     "data": {
      "text/plain": [
       "Index(['client_id', 'regional', 'site', 'client_class', 'client_subclass',\n",
       "       'connection_type', 'connection_status', 'installment_value',\n",
       "       'installment_status', 'total_debt', 'total_bills', 'disconnection_date',\n",
       "       'disconnection_requested', 'contractor_id', 'disconnection_executed',\n",
       "       'collected', 'total_debt_class'],\n",
       "      dtype='object')"
      ]
     },
     "metadata": {},
     "output_type": "display_data"
    }
   ],
   "source": [
    "df.columns"
   ]
  },
  {
   "cell_type": "code",
   "execution_count": null,
   "metadata": {},
   "outputs": [],
   "source": [
    "categorical = [\n",
    "    'regional', \n",
    "    'client_class',\n",
    "    'connection_type',\n",
    "    'total_debt_class'\n",
    "]\n",
    "numerical = [\n",
    "    'total_bills'\n",
    "]\n",
    "datetime = [\n",
    "    'disconnection_date'\n",
    "]\n",
    "\n",
    "pipeline_02 = Pipeline(df.loc[df.collected == 1].reset_index(drop=True), categorical, numerical, 'disconnection_executed')\n",
    "pipeline_02.preprocessing(multiclass=True)"
   ]
  },
  {
   "cell_type": "code",
   "execution_count": null,
   "metadata": {},
   "outputs": [
    {
     "name": "stdout",
     "output_type": "stream",
     "text": [
      "5-Fold Cross Validation accuracy: [0.8644623254822551, 0.8673931578386443, 0.8651017798145583, 0.8682990514760738, 0.868352339337099]\n",
      "Test Set accuracy: 0.8672\n"
     ]
    }
   ],
   "source": [
    "model = LogisticRegression(\n",
    "            random_state=42,\n",
    "            max_iter=500,\n",
    "            C=0.1,\n",
    "        )\n",
    "num_folds = 5\n",
    "cv_Precision = cv(pipeline_02.X_processed.values, pipeline_02.y_processed,  model, num_folds, metric=accuracy_score)\n",
    "print(f'5-Fold Cross Validation accuracy: {cv_Precision}')\n",
    "\n",
    "model.fit(pipeline_02.X_processed.values, pipeline_02.y_processed)\n",
    "y_pred = model.predict(pipeline_02.X_processed_test.values)\n",
    "test_acc= accuracy_score(pipeline_02.y_processed_test,y_pred)\n",
    "print(f'Test Set accuracy: {test_acc:.4f}')"
   ]
  },
  {
   "cell_type": "code",
   "execution_count": null,
   "metadata": {},
   "outputs": [
    {
     "name": "stdout",
     "output_type": "stream",
     "text": [
      "Utilizando a estratégia most_frequent: Acc = 0.56\n",
      "Utilizando a estratégia prior: Acc = 0.56\n",
      "Utilizando a estratégia stratified: Acc = 0.47\n",
      "Utilizando a estratégia uniform: Acc = 0.25\n"
     ]
    }
   ],
   "source": [
    "for strategy in ['most_frequent', 'prior', 'stratified', 'uniform']:\n",
    "    dummy_clf = DummyClassifier(strategy = strategy)\n",
    "    dummy_clf.fit(pipeline_02.X_processed.values, pipeline_02.y_processed)\n",
    "    y_pred_dummy = dummy_clf.predict(pipeline_02.y_processed_test)\n",
    "    print(f'Utilizando a estratégia {strategy}: Acc = {accuracy_score(pipeline_02.y_processed_test,y_pred_dummy):.2f}')"
   ]
  },
  {
   "cell_type": "code",
   "execution_count": null,
   "metadata": {},
   "outputs": [
    {
     "name": "stdout",
     "output_type": "stream",
     "text": [
      "               precision    recall  f1-score   support\n",
      "\n",
      "       branch       0.00      0.00      0.00       377\n",
      "circuit_break       0.77      0.95      0.85     20699\n",
      "         pole       0.47      0.01      0.02      2262\n",
      "       remote       0.96      0.88      0.92     30281\n",
      "\n",
      "     accuracy                           0.87     53619\n",
      "    macro avg       0.55      0.46      0.45     53619\n",
      " weighted avg       0.86      0.87      0.85     53619\n",
      "\n"
     ]
    },
    {
     "name": "stderr",
     "output_type": "stream",
     "text": [
      "c:\\Users\\leonardodomingos\\.virtualenvs\\LeonardoDomingosKearney-Q09UpS7u\\lib\\site-packages\\sklearn\\metrics\\_classification.py:1469: UndefinedMetricWarning: Precision and F-score are ill-defined and being set to 0.0 in labels with no predicted samples. Use `zero_division` parameter to control this behavior.\n",
      "  _warn_prf(average, modifier, msg_start, len(result))\n",
      "c:\\Users\\leonardodomingos\\.virtualenvs\\LeonardoDomingosKearney-Q09UpS7u\\lib\\site-packages\\sklearn\\metrics\\_classification.py:1469: UndefinedMetricWarning: Precision and F-score are ill-defined and being set to 0.0 in labels with no predicted samples. Use `zero_division` parameter to control this behavior.\n",
      "  _warn_prf(average, modifier, msg_start, len(result))\n",
      "c:\\Users\\leonardodomingos\\.virtualenvs\\LeonardoDomingosKearney-Q09UpS7u\\lib\\site-packages\\sklearn\\metrics\\_classification.py:1469: UndefinedMetricWarning: Precision and F-score are ill-defined and being set to 0.0 in labels with no predicted samples. Use `zero_division` parameter to control this behavior.\n",
      "  _warn_prf(average, modifier, msg_start, len(result))\n"
     ]
    }
   ],
   "source": [
    "from sklearn.metrics import classification_report\n",
    "\n",
    "print(classification_report(pipeline_02.y_processed_test, y_pred, target_names=pipeline_02.label_encoder.classes_))"
   ]
  },
  {
   "cell_type": "markdown",
   "metadata": {},
   "source": [
    "A classificação funciona muito bem para remote e circuit_break, mas não para branch e pole que não possuem muita informação"
   ]
  },
  {
   "cell_type": "code",
   "execution_count": null,
   "metadata": {},
   "outputs": [],
   "source": []
  }
 ],
 "metadata": {
  "language_info": {
   "name": "python"
  },
  "orig_nbformat": 4
 },
 "nbformat": 4,
 "nbformat_minor": 2
}
